{
  "cells": [
    {
      "cell_type": "code",
      "execution_count": null,
      "metadata": {
        "colab": {
          "base_uri": "https://localhost:8080/"
        },
        "id": "qi11mP0E2JD-",
        "outputId": "5c384c75-c2e8-4733-ad85-1c4941036c42"
      },
      "outputs": [
        {
          "name": "stdout",
          "output_type": "stream",
          "text": [
            "The predicted class for the test data is:1\n"
          ]
        }
      ],
      "source": [
        "import pandas as pd\n",
        "from sklearn.neighbors import KNeighborsClassifier\n",
        "\n",
        "data= pd.read_csv('yXT_wine.csv',header=None)\n",
        "\n",
        "labels = data.iloc[:, 0].values\n",
        "features = data.iloc[:, 1:].values\n",
        "\n",
        "test_label= labels[0]\n",
        "test_features = [features[0]]\n",
        "train_labels =labels[1:]\n",
        "train_features=features[1:]\n",
        "\n",
        "knn=KNeighborsClassifier(n_neighbors=1)\n",
        "knn.fit(train_features,train_labels)\n",
        "\n",
        "predicted_class = knn.predict(test_features)\n",
        "print(f\"The predicted class for the test data is:{predicted_class[0]}\")"
      ]
    },
    {
      "cell_type": "code",
      "execution_count": null,
      "metadata": {
        "colab": {
          "base_uri": "https://localhost:8080/"
        },
        "id": "fnLeShpY3uTI",
        "outputId": "f15b5186-943d-4a05-e12d-f3b460a705ca"
      },
      "outputs": [
        {
          "name": "stdout",
          "output_type": "stream",
          "text": [
            "The predicted class for the test data in yXT_car.csv is: 1\n",
            "The predicted class for the test data in yXT_seeds.csv is: 1\n",
            "The predicted class for the test data in yXT_wine.csv is: 1\n",
            "The predicted class for the test data in yXT_winequality-white.csv is: 6\n",
            "The predicted class for the test data in yXT_yeast.csv is: 1\n"
          ]
        }
      ],
      "source": [
        "import pandas as pd\n",
        "from sklearn.neighbors import KNeighborsClassifier\n",
        "\n",
        "\n",
        "filenames = [\n",
        "    'yXT_car.csv',\n",
        "    'yXT_seeds.csv',\n",
        "    'yXT_wine.csv',\n",
        "    'yXT_winequality-white.csv',\n",
        "    'yXT_yeast.csv'\n",
        "]\n",
        "\n",
        "def perform_knn_classification(filename):\n",
        "\n",
        "    data = pd.read_csv(filename, header=None)\n",
        "\n",
        "\n",
        "    labels = data.iloc[:, 0].values\n",
        "    features = data.iloc[:, 1:].values\n",
        "\n",
        "    test_label = labels[0]\n",
        "    test_features = [features[0]]\n",
        "    train_labels = labels[1:]\n",
        "    train_features = features[1:]\n",
        "\n",
        "    knn = KNeighborsClassifier(n_neighbors=1)\n",
        "    knn.fit(train_features, train_labels)\n",
        "\n",
        "\n",
        "    predicted_class = knn.predict(test_features)\n",
        "    print(f\"The predicted class for the test data in {filename} is: {predicted_class[0]}\")\n",
        "\n",
        "for filename in filenames:\n",
        "    perform_knn_classification(filename)\n"
      ]
    },
    {
      "cell_type": "code",
      "execution_count": null,
      "metadata": {
        "colab": {
          "base_uri": "https://localhost:8080/"
        },
        "id": "2KS3WXye3AxJ",
        "outputId": "dd5c806b-8dd1-470f-b27a-0c77202918a4"
      },
      "outputs": [
        {
          "name": "stdout",
          "output_type": "stream",
          "text": [
            "Training features shape: (124, 13)\n",
            "Training labels shape: (124,)\n",
            "Test features shape: (54, 13)\n",
            "Test labels shape: (54,)\n"
          ]
        }
      ],
      "source": [
        "import pandas as pd\n",
        "from sklearn.model_selection import train_test_split\n",
        "\n",
        "\n",
        "filename = 'yXT_wine.csv'\n",
        "data = pd.read_csv(filename, header=None)\n",
        "\n",
        "labels = data.iloc[:, 0].values\n",
        "features = data.iloc[:, 1:].values\n",
        "\n",
        "\n",
        "train_features, test_features, train_labels, test_labels = train_test_split(\n",
        "    features, labels, test_size=0.3, stratify=labels, random_state=42\n",
        ")\n",
        "\n",
        "\n",
        "print(\"Training features shape:\", train_features.shape)\n",
        "print(\"Training labels shape:\", train_labels.shape)\n",
        "print(\"Test features shape:\", test_features.shape)\n",
        "print(\"Test labels shape:\", test_labels.shape)\n"
      ]
    },
    {
      "cell_type": "code",
      "execution_count": null,
      "metadata": {
        "colab": {
          "base_uri": "https://localhost:8080/"
        },
        "id": "MVO8oArzdcFM",
        "outputId": "ec99d890-766e-4b89-bacf-8755f9c43127"
      },
      "outputs": [
        {
          "name": "stdout",
          "output_type": "stream",
          "text": [
            "The accuracy of the 1-nearest neighbor classifier on the test set is: 0.7037\n"
          ]
        }
      ],
      "source": [
        "import pandas as pd\n",
        "from sklearn.model_selection import train_test_split\n",
        "from sklearn.neighbors import KNeighborsClassifier\n",
        "from sklearn.metrics import accuracy_score\n",
        "\n",
        "filename = 'yXT_wine.csv'\n",
        "data = pd.read_csv(filename, header=None)\n",
        "\n",
        "\n",
        "labels = data.iloc[:, 0].values\n",
        "features = data.iloc[:, 1:].values\n",
        "\n",
        "\n",
        "train_features, test_features, train_labels, test_labels = train_test_split(\n",
        "    features, labels, test_size=0.3, stratify=labels, random_state=42\n",
        ")\n",
        "\n",
        "\n",
        "knn = KNeighborsClassifier(n_neighbors=1)\n",
        "knn.fit(train_features, train_labels)\n",
        "\n",
        "predictions = knn.predict(test_features)\n",
        "\n",
        "accuracy = accuracy_score(test_labels, predictions)\n",
        "print(f\"The accuracy of the 1-nearest neighbor classifier on the test set is: {accuracy:.4f}\")\n"
      ]
    },
    {
      "cell_type": "markdown",
      "metadata": {
        "id": "CXQCQOjf3DMq"
      },
      "source": [
        "# 新段落"
      ]
    },
    {
      "cell_type": "code",
      "execution_count": null,
      "metadata": {
        "colab": {
          "base_uri": "https://localhost:8080/"
        },
        "id": "TAD4vZctfhxi",
        "outputId": "232f83f0-4a35-4520-a43d-b3cfab22ce50"
      },
      "outputs": [
        {
          "name": "stdout",
          "output_type": "stream",
          "text": [
            "Average accuracy: 0.8474\n",
            "Standard deviation: 0.0171\n"
          ]
        }
      ],
      "source": [
        "import pandas as pd\n",
        "from sklearn.model_selection import train_test_split\n",
        "from sklearn.neighbors import KNeighborsClassifier\n",
        "from sklearn.metrics import accuracy_score\n",
        "import numpy as np\n",
        "\n",
        "\n",
        "filename = 'yXT_car.csv'\n",
        "data = pd.read_csv(filename, header=None)\n",
        "\n",
        "labels = data.iloc[:, 0].values\n",
        "features = data.iloc[:, 1:].values\n",
        "\n",
        "accuracies = []\n",
        "\n",
        "\n",
        "for _ in range(10):\n",
        "\n",
        "    train_features, test_features, train_labels, test_labels = train_test_split(\n",
        "        features, labels, test_size=0.3, stratify=labels, random_state=None  # None表示每次都使用不同的随机种子\n",
        "    )\n",
        "\n",
        "    knn = KNeighborsClassifier(n_neighbors=1)\n",
        "\n",
        "    knn.fit(train_features, train_labels)\n",
        "\n",
        "    predictions = knn.predict(test_features)\n",
        "\n",
        "\n",
        "    accuracy = accuracy_score(test_labels, predictions)\n",
        "    accuracies.append(accuracy)\n",
        "\n",
        "mean_accuracy = np.mean(accuracies)\n",
        "std_deviation = np.std(accuracies)\n",
        "\n",
        "print(f\"Average accuracy: {mean_accuracy:.4f}\")\n",
        "print(f\"Standard deviation: {std_deviation:.4f}\")\n"
      ]
    },
    {
      "cell_type": "code",
      "execution_count": null,
      "metadata": {
        "colab": {
          "base_uri": "https://localhost:8080/"
        },
        "id": "xz0yywQB-7jD",
        "outputId": "fb0043f7-f417-4a5d-bbb8-3136cf7d81f1"
      },
      "outputs": [
        {
          "name": "stdout",
          "output_type": "stream",
          "text": [
            "Dataset: yXT_car.csv\n",
            "Average accuracy : 0.8395\n",
            "Standard deviation : 0.0207\n",
            "Dataset: yXT_seeds.csv\n",
            "Average accuracy : 0.9095\n",
            "Standard deviation : 0.0333\n",
            "Dataset: yXT_wine.csv\n",
            "Average accuracy : 0.7333\n",
            "Standard deviation : 0.0525\n",
            "Dataset: yXT_winequality-white.csv\n",
            "Average accuracy : 0.5648\n",
            "Standard deviation : 0.0075\n",
            "Dataset: yXT_yeast.csv\n",
            "Average accuracy : 0.5130\n",
            "Standard deviation : 0.0197\n"
          ]
        }
      ],
      "source": [
        "import pandas as pd\n",
        "from sklearn.model_selection import train_test_split\n",
        "from sklearn.neighbors import KNeighborsClassifier\n",
        "from sklearn.metrics import accuracy_score\n",
        "import numpy as np\n",
        "\n",
        "# 数据集文件名列表\n",
        "datasets = ['yXT_car.csv', 'yXT_seeds.csv', 'yXT_wine.csv', 'yXT_winequality-white.csv', 'yXT_yeast.csv']\n",
        "\n",
        "# 重复次数\n",
        "n_iterations = 10\n",
        "\n",
        "# 循环处理每个数据集\n",
        "for dataset in datasets:\n",
        "    print(f\"Dataset: {dataset}\")\n",
        "\n",
        "    # 读取CSV文件\n",
        "    data = pd.read_csv(dataset, header=None)\n",
        "\n",
        "    # 分离标签和特征\n",
        "    labels = data.iloc[:, 0].values\n",
        "    features = data.iloc[:, 1:].values\n",
        "\n",
        "    accuracies = []\n",
        "\n",
        "    # 进行n_iterations次分割和评估\n",
        "    for _ in range(n_iterations):\n",
        "        # 将数据按7:3随机分为训练集和测试集\n",
        "        train_features, test_features, train_labels, test_labels = train_test_split(\n",
        "            features, labels, test_size=0.3, stratify=labels, random_state=None  # None表示每次都使用不同的随机种子\n",
        "        )\n",
        "\n",
        "        # 创建1-最近邻分类器\n",
        "        knn = KNeighborsClassifier(n_neighbors=1)\n",
        "\n",
        "        # 使用训练集数据训练分类器\n",
        "        knn.fit(train_features, train_labels)\n",
        "\n",
        "        # 在测试集上进行预测\n",
        "        predictions = knn.predict(test_features)\n",
        "\n",
        "        # 计算准确率并存储\n",
        "        accuracy = accuracy_score(test_labels, predictions)\n",
        "        accuracies.append(accuracy)\n",
        "\n",
        "    # 计算平均值和标准偏差\n",
        "    mean_accuracy = np.mean(accuracies)\n",
        "    std_deviation = np.std(accuracies)\n",
        "\n",
        "    print(f\"Average accuracy : {mean_accuracy:.4f}\")\n",
        "    print(f\"Standard deviation : {std_deviation:.4f}\")\n",
        "\n"
      ]
    },
    {
      "cell_type": "code",
      "execution_count": null,
      "metadata": {
        "colab": {
          "base_uri": "https://localhost:8080/"
        },
        "id": "nHj1IZtqOvF3",
        "outputId": "6117efae-7cee-4f34-bc56-711f302863cd"
      },
      "outputs": [
        {
          "output_type": "stream",
          "name": "stdout",
          "text": [
            "σ: 5.004999421156386\n",
            "k=1 时的准确率: 0.9629629629629629\n",
            "k=2 时的准确率: 0.9629629629629629\n",
            "k=3 时的准确率: 0.9444444444444444\n",
            "k=4 时的准确率: 0.9444444444444444\n",
            "k=5 时的准确率: 0.9444444444444444\n"
          ]
        }
      ],
      "source": [
        "import pandas as pd\n",
        "import numpy as np\n",
        "from sklearn.model_selection import train_test_split\n",
        "from sklearn.preprocessing import StandardScaler\n",
        "from scipy.spatial.distance import pdist, squareform\n",
        "from sklearn.metrics import accuracy_score\n",
        "from sklearn.neighbors import KNeighborsClassifier\n",
        "\n",
        "# 读取CSV文件\n",
        "data = pd.read_csv('yXT_wine.csv')\n",
        "\n",
        "# 分离特征和标签\n",
        "X = data.iloc[:, 1:].values  # 特征列\n",
        "y = data.iloc[:, 0].values   # 标签列\n",
        "\n",
        "# 将数据分为训练集和测试集\n",
        "X_train, X_test, y_train, y_test = train_test_split(X, y, test_size=0.3, random_state=42)\n",
        "\n",
        "# 标准化特征\n",
        "scaler = StandardScaler()\n",
        "X_train = scaler.fit_transform(X_train)\n",
        "X_test = scaler.transform(X_test)\n",
        "\n",
        "\n",
        "D = squareform(pdist(X_train, 'euclidean'))\n",
        "\n",
        "\n",
        "sigma = np.median(D[D != 0])\n",
        "print(f\"σ: {sigma}\")\n",
        "\n",
        "def weight(distance, sigma):\n",
        "    return np.exp(- (distance ** 2) / (2 * sigma ** 2))\n",
        "\n",
        "\n",
        "class WeightedKNeighborsClassifier(KNeighborsClassifier):\n",
        "    def __init__(self, n_neighbors=5, sigma=1.0):\n",
        "        super().__init__(n_neighbors=n_neighbors, metric='euclidean')\n",
        "        self.sigma = sigma\n",
        "\n",
        "    def predict(self, X):\n",
        "        distances, indices = self.kneighbors(X)\n",
        "        weights = weight(distances, self.sigma)\n",
        "\n",
        "        y_pred = np.zeros(X.shape[0], dtype=int)\n",
        "        for i in range(X.shape[0]):\n",
        "            class_votes = np.zeros(np.max(y_train) + 1)\n",
        "            for j in range(self.n_neighbors):\n",
        "                label = y_train[indices[i, j]]\n",
        "                class_votes[label] += weights[i, j]\n",
        "            y_pred[i] = np.argmax(class_votes)\n",
        "        return y_pred\n",
        "\n",
        "\n",
        "for k in range(1, 6):\n",
        "    clf = WeightedKNeighborsClassifier(n_neighbors=k, sigma=sigma)\n",
        "    clf.fit(X_train, y_train)\n",
        "    y_pred = clf.predict(X_test)\n",
        "    accuracy = accuracy_score(y_test, y_pred)\n",
        "    print(f\"k={k} 时的准确率: {accuracy}\")\n",
        "\n",
        "\n"
      ]
    },
    {
      "cell_type": "code",
      "source": [
        "import pandas as pd\n",
        "import numpy as np\n",
        "from sklearn.model_selection import train_test_split\n",
        "from sklearn.metrics import accuracy_score\n",
        "from scipy.spatial.distance import pdist, squareform\n",
        "from sklearn.neighbors import KNeighborsClassifier\n",
        "\n",
        "\n",
        "data = pd.read_csv('yXT_wine.csv')\n",
        "\n",
        "\n",
        "X = data.iloc[:, 1:].values\n",
        "y = data.iloc[:, 0].values\n",
        "\n",
        "\n",
        "X_train, X_test, y_train, y_test = train_test_split(X, y, test_size=0.3, random_state=42)\n",
        "\n",
        "\n",
        "D = squareform(pdist(X_train, 'euclidean'))\n",
        "\n",
        "\n",
        "sigma = np.median(D[D != 0])\n",
        "print(f\"σ: {sigma}\")\n",
        "\n",
        "\n",
        "def weight(distance, sigma):\n",
        "    return np.exp(- (distance ** 2) / (2 * sigma ** 2))\n",
        "\n",
        "\n",
        "class WeightedKNeighborsClassifier(KNeighborsClassifier):\n",
        "    def __init__(self, n_neighbors=5, sigma=1.0):\n",
        "        super().__init__(n_neighbors=n_neighbors, metric='euclidean')\n",
        "        self.sigma = sigma\n",
        "\n",
        "    def predict(self, X):\n",
        "        distances, indices = self.kneighbors(X)\n",
        "        weights = weight(distances, self.sigma)\n",
        "\n",
        "\n",
        "        y_pred = np.zeros(X.shape[0], dtype=int)\n",
        "        for i in range(X.shape[0]):\n",
        "            class_votes = np.zeros(np.max(y_train) + 1)\n",
        "            for j in range(self.n_neighbors):\n",
        "                label = y_train[indices[i, j]]\n",
        "                class_votes[label] += weights[i, j]\n",
        "            y_pred[i] = np.argmax(class_votes)\n",
        "        return y_pred\n",
        "\n",
        "\n",
        "for k in range(1, 6):\n",
        "    clf = WeightedKNeighborsClassifier(n_neighbors=k, sigma=sigma)\n",
        "    clf.fit(X_train, y_train)\n",
        "    y_pred = clf.predict(X_test)\n",
        "    accuracy = accuracy_score(y_test, y_pred)\n",
        "    print(f\"k={k} Accuracy： {accuracy}\")\n"
      ],
      "metadata": {
        "colab": {
          "base_uri": "https://localhost:8080/"
        },
        "id": "UiNhz9QYrWIp",
        "outputId": "05febb07-282b-4153-fa1c-143cfc88123d"
      },
      "execution_count": null,
      "outputs": [
        {
          "output_type": "stream",
          "name": "stdout",
          "text": [
            "σ: 285.7704409136816\n",
            "k=1 Accuracy： 0.7037037037037037\n",
            "k=2 Accuracy： 0.7037037037037037\n",
            "k=3 Accuracy： 0.6481481481481481\n",
            "k=4 Accuracy： 0.7037037037037037\n",
            "k=5 Accuracy： 0.7037037037037037\n"
          ]
        }
      ]
    },
    {
      "cell_type": "code",
      "source": [
        "import pandas as pd\n",
        "import numpy as np\n",
        "from sklearn.model_selection import train_test_split\n",
        "import time\n",
        "\n",
        "# 读取数据集\n",
        "data = pd.read_csv('yXT_wine.csv')\n",
        "X = data.iloc[:, 1:].values\n",
        "y = data.iloc[:, 0].values\n",
        "\n",
        "# 划分训练集和测试集\n",
        "X_train, X_test, y_train, y_test = train_test_split(X, y, test_size=0.3, random_state=42)\n",
        "\n",
        "# 距离矩阵计算和中位数计算（C语言风格）\n",
        "def calculate_distances_C_style(X_train):\n",
        "    n = X_train.shape[0]\n",
        "    distances = np.zeros((n, n))\n",
        "    for i in range(n):\n",
        "        for j in range(n):\n",
        "            if i != j:\n",
        "                distances[i, j] = np.linalg.norm(X_train[i] - X_train[j])\n",
        "    return distances\n",
        "\n",
        "# 中位数计算\n",
        "def calculate_median(distances):\n",
        "    return np.median(distances[distances != 0])\n",
        "\n",
        "# 加权k-最近邻分类器（C语言风格）\n",
        "def weighted_knn_C_style(train_features, train_labels, test_features, k, sigma, distances):\n",
        "    n_train = train_features.shape[0]\n",
        "    n_test = test_features.shape[0]\n",
        "    predictions = np.zeros(n_test, dtype=int)\n",
        "\n",
        "    for i in range(n_test):\n",
        "        # 找到最近的k个邻居\n",
        "        indices = np.argsort(distances[i])[:k]\n",
        "        nearest_distances = distances[i, indices]\n",
        "\n",
        "        # 计算权重\n",
        "        weights = np.exp(- (nearest_distances ** 2) / (2 * (sigma ** 2)))\n",
        "\n",
        "        # 加权投票\n",
        "        weighted_votes = np.zeros(np.max(train_labels) + 1)\n",
        "        for j in range(k):\n",
        "            label = train_labels[indices[j]]\n",
        "            weighted_votes[label] += weights[j]\n",
        "\n",
        "        # 预测结果\n",
        "        predictions[i] = np.argmax(weighted_votes)\n",
        "\n",
        "    return predictions\n",
        "\n",
        "# 距离矩阵计算和中位数计算（矩阵计算方法）\n",
        "def calculate_distances_matrix(X_train):\n",
        "    return np.linalg.norm(X_train[:, np.newaxis] - X_train, axis=2)\n",
        "\n",
        "# 加权k-最近邻分类器（矩阵计算方法）\n",
        "def weighted_knn_matrix_approach(train_features, train_labels, test_features, k, sigma, distances):\n",
        "    n_train = train_features.shape[0]\n",
        "    n_test = test_features.shape[0]\n",
        "\n",
        "    # 找到最近的k个邻居\n",
        "    indices = np.argsort(distances, axis=1)[:, :k]\n",
        "    nearest_distances = np.take_along_axis(distances, indices, axis=1)\n",
        "\n",
        "    # 计算权重\n",
        "    weights = np.exp(- (nearest_distances ** 2) / (2 * (sigma ** 2)))\n",
        "\n",
        "    # 加权投票\n",
        "    weighted_votes = np.zeros((n_test, np.max(train_labels) + 1))\n",
        "    for i in range(n_test):\n",
        "        for j in range(k):\n",
        "            label = train_labels[indices[i, j]]\n",
        "            weighted_votes[i, label] += weights[i, j]\n",
        "\n",
        "    # 预测结果\n",
        "    predictions = np.argmax(weighted_votes, axis=1)\n",
        "\n",
        "    return predictions\n",
        "\n",
        "# 计算时间（C语言风格）\n",
        "print(\"C_style：\")\n",
        "for k in range(1, 6):\n",
        "    start_time = time.time()\n",
        "    distances = calculate_distances_C_style(X_train)\n",
        "    sigma = calculate_median(distances)\n",
        "    predictions = weighted_knn_C_style(X_train, y_train, X_test, k, sigma, distances)\n",
        "    end_time = time.time()\n",
        "    print(f\"k={k} calculate time: {end_time - start_time}s\")\n",
        "\n",
        "# 计算时间（矩阵计算方法）\n",
        "print(\"\\nmatrix_approach：\")\n",
        "for k in range(1, 6):\n",
        "    start_time = time.time()\n",
        "    distances = calculate_distances_matrix(X_train)\n",
        "    sigma = calculate_median(distances)\n",
        "    predictions = weighted_knn_matrix_approach(X_train, y_train, X_test, k, sigma, distances)\n",
        "    end_time = time.time()\n",
        "    print(f\"k={k} calculate time: {end_time - start_time}s\")\n",
        "\n"
      ],
      "metadata": {
        "colab": {
          "base_uri": "https://localhost:8080/"
        },
        "id": "S-zc0ZF5Ut-Z",
        "outputId": "c659b9d7-6d59-4d8b-cd0d-2dc61b481572"
      },
      "execution_count": null,
      "outputs": [
        {
          "output_type": "stream",
          "name": "stdout",
          "text": [
            "C_style：\n",
            "k=1 calculate time: 0.06261897087097168s\n",
            "k=2 calculate time: 0.06414294242858887s\n",
            "k=3 calculate time: 0.0731191635131836s\n",
            "k=4 calculate time: 0.08134055137634277s\n",
            "k=5 calculate time: 0.06705141067504883s\n",
            "\n",
            "matrix_approach：\n",
            "k=1 calculate time: 0.0047893524169921875s\n",
            "k=2 calculate time: 0.002985715866088867s\n",
            "k=3 calculate time: 0.0039789676666259766s\n",
            "k=4 calculate time: 0.002951383590698242s\n",
            "k=5 calculate time: 0.004059314727783203s\n"
          ]
        }
      ]
    }
  ],
  "metadata": {
    "colab": {
      "provenance": []
    },
    "kernelspec": {
      "display_name": "Python 3",
      "name": "python3"
    },
    "language_info": {
      "name": "python"
    }
  },
  "nbformat": 4,
  "nbformat_minor": 0
}